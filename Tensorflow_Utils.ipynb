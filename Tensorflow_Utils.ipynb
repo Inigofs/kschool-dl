{
  "cells": [
    {
      "cell_type": "markdown",
      "metadata": {
        "id": "view-in-github",
        "colab_type": "text"
      },
      "source": [
        "<a href=\"https://colab.research.google.com/github/Inigofs/kschool-dl/blob/main/Tensorflow_Utils.ipynb\" target=\"_parent\"><img src=\"https://colab.research.google.com/assets/colab-badge.svg\" alt=\"Open In Colab\"/></a>"
      ]
    },
    {
      "cell_type": "code",
      "execution_count": null,
      "metadata": {
        "id": "mcY2thobD7bZ"
      },
      "outputs": [],
      "source": [
        "!apt-get update > /dev/null 2>&1\n",
        "!apt-get install cmake > /dev/null 2>&1\n",
        "!pip install --upgrade setuptools > /dev/null 2>&1\n",
        "!pip install tensorflow-gpu==2.0.0 > /dev/null 2>&1"
      ]
    },
    {
      "cell_type": "code",
      "execution_count": null,
      "metadata": {
        "id": "3LWbj4n3GqxQ"
      },
      "outputs": [],
      "source": [
        "import tensorflow as tf\n",
        "import numpy as np"
      ]
    },
    {
      "cell_type": "markdown",
      "metadata": {
        "id": "aPfsexGTF-Fy"
      },
      "source": [
        "Let's try to fit a parabollic function using \n",
        "\n",
        "$\\displaystyle y = -2x^2 + x + 1$"
      ]
    },
    {
      "cell_type": "code",
      "execution_count": null,
      "metadata": {
        "id": "70-5CQflJ8Dj"
      },
      "outputs": [],
      "source": [
        "f = lambda x: 2*x**2 + x +1\n",
        "x_train = np.linspace(-100,100,1000)\n",
        "y_train = f(x_train)\n",
        "\n",
        "x_test = np.linspace(-110,-100.01,10)\n",
        "y_test = f(x_test)"
      ]
    },
    {
      "cell_type": "markdown",
      "metadata": {
        "id": "IMIdG9C6MiDQ"
      },
      "source": [
        "# Model Definition"
      ]
    },
    {
      "cell_type": "markdown",
      "metadata": {
        "id": "Z83KS3O1GXIw"
      },
      "source": [
        "### Sequential API"
      ]
    },
    {
      "cell_type": "code",
      "execution_count": null,
      "metadata": {
        "id": "OLcjGsAPGaUM"
      },
      "outputs": [],
      "source": [
        "sequential_model = tf.keras.models.Sequential()\n",
        "sequential_model.add(tf.keras.layers.Dense(64, input_shape=(1,), activation='relu'))\n",
        "sequential_model.add(tf.keras.layers.Dense(32, activation='relu'))\n",
        "sequential_model.add(tf.keras.layers.Dense(1))"
      ]
    },
    {
      "cell_type": "code",
      "execution_count": null,
      "metadata": {
        "colab": {
          "base_uri": "https://localhost:8080/"
        },
        "id": "DbZQKep9GuSd",
        "outputId": "8b9a3e60-5ac7-4baf-e07d-d6e95b842793"
      },
      "outputs": [
        {
          "output_type": "stream",
          "name": "stdout",
          "text": [
            "Model: \"sequential\"\n",
            "_________________________________________________________________\n",
            " Layer (type)                Output Shape              Param #   \n",
            "=================================================================\n",
            " dense (Dense)               (None, 64)                128       \n",
            "                                                                 \n",
            " dense_1 (Dense)             (None, 32)                2080      \n",
            "                                                                 \n",
            " dense_2 (Dense)             (None, 1)                 33        \n",
            "                                                                 \n",
            "=================================================================\n",
            "Total params: 2,241\n",
            "Trainable params: 2,241\n",
            "Non-trainable params: 0\n",
            "_________________________________________________________________\n"
          ]
        }
      ],
      "source": [
        "sequential_model.summary()"
      ]
    },
    {
      "cell_type": "code",
      "execution_count": null,
      "metadata": {
        "colab": {
          "base_uri": "https://localhost:8080/"
        },
        "id": "x7TNkmcKJ1nW",
        "outputId": "f545d4ad-2473-4b03-ca5c-0f06a48a030d"
      },
      "outputs": [
        {
          "output_type": "stream",
          "name": "stdout",
          "text": [
            "1/1 [==============================] - 0s 314ms/step\n"
          ]
        },
        {
          "output_type": "execute_result",
          "data": {
            "text/plain": [
              "array([[11.72321  ],\n",
              "       [11.604917 ],\n",
              "       [11.486614 ],\n",
              "       [11.36832  ],\n",
              "       [11.250021 ],\n",
              "       [11.1317215],\n",
              "       [11.013423 ],\n",
              "       [10.895128 ],\n",
              "       [10.776829 ],\n",
              "       [10.658533 ]], dtype=float32)"
            ]
          },
          "metadata": {},
          "execution_count": 6
        }
      ],
      "source": [
        "sequential_model.predict(x_test)"
      ]
    },
    {
      "cell_type": "markdown",
      "metadata": {
        "id": "t4I-8vuMGS5i"
      },
      "source": [
        "### Functional API"
      ]
    },
    {
      "cell_type": "code",
      "execution_count": null,
      "metadata": {
        "colab": {
          "base_uri": "https://localhost:8080/"
        },
        "id": "swQEuvHVGSpz",
        "outputId": "9b045665-b3ee-4fe5-cb62-94cf3cd60c69"
      },
      "outputs": [
        {
          "output_type": "stream",
          "name": "stdout",
          "text": [
            "Model: \"model\"\n",
            "_________________________________________________________________\n",
            " Layer (type)                Output Shape              Param #   \n",
            "=================================================================\n",
            " input_1 (InputLayer)        [(None, 1)]               0         \n",
            "                                                                 \n",
            " dense_3 (Dense)             (None, 64)                128       \n",
            "                                                                 \n",
            " dense_4 (Dense)             (None, 32)                2080      \n",
            "                                                                 \n",
            " dense_5 (Dense)             (None, 1)                 33        \n",
            "                                                                 \n",
            "=================================================================\n",
            "Total params: 2,241\n",
            "Trainable params: 2,241\n",
            "Non-trainable params: 0\n",
            "_________________________________________________________________\n"
          ]
        }
      ],
      "source": [
        "x = tf.keras.layers.Input(shape=(1,))\n",
        "dense_relu_64 = tf.keras.layers.Dense(64, activation='relu')(x)\n",
        "dense_relu_32 = tf.keras.layers.Dense(32, activation='relu')(dense_relu_64)\n",
        "y = tf.keras.layers.Dense(1)(dense_relu_32)\n",
        "\n",
        "functional_model = tf.keras.Model(x, y)\n",
        "functional_model.summary()\n"
      ]
    },
    {
      "cell_type": "code",
      "execution_count": null,
      "metadata": {
        "colab": {
          "base_uri": "https://localhost:8080/"
        },
        "id": "mViqgogwKYPn",
        "outputId": "7fb03404-d2cf-434e-f272-79aa404b24bc"
      },
      "outputs": [
        {
          "output_type": "stream",
          "name": "stdout",
          "text": [
            "1/1 [==============================] - 0s 93ms/step\n"
          ]
        },
        {
          "output_type": "execute_result",
          "data": {
            "text/plain": [
              "array([[35.328083],\n",
              "       [34.971596],\n",
              "       [34.615093],\n",
              "       [34.258606],\n",
              "       [33.90211 ],\n",
              "       [33.54562 ],\n",
              "       [33.18912 ],\n",
              "       [32.832638],\n",
              "       [32.476143],\n",
              "       [32.119644]], dtype=float32)"
            ]
          },
          "metadata": {},
          "execution_count": 8
        }
      ],
      "source": [
        "functional_model.predict(x_test)"
      ]
    },
    {
      "cell_type": "markdown",
      "metadata": {
        "id": "31als3d0H8IT"
      },
      "source": [
        "### Model Subclassing"
      ]
    },
    {
      "cell_type": "code",
      "execution_count": null,
      "metadata": {
        "id": "qDRHX33uH-zk"
      },
      "outputs": [],
      "source": [
        "class NN(tf.keras.Model):\n",
        "\n",
        "    def __init__(self):\n",
        "        super(NN, self).__init__()\n",
        "        self.dense_relu_64 = tf.keras.layers.Dense(64, activation='relu')\n",
        "        self.dense_relu_32 = tf.keras.layers.Dense(32, activation='relu')\n",
        "        self.dense_linear_1 = tf.keras.layers.Dense(1)\n",
        "\n",
        "    def call(self, inputs):\n",
        "        x = self.dense_relu_64(inputs)\n",
        "        x = self.dense_relu_32(x)\n",
        "        x = self.dense_linear_1(x)\n",
        "        return x"
      ]
    },
    {
      "cell_type": "code",
      "execution_count": null,
      "metadata": {
        "colab": {
          "base_uri": "https://localhost:8080/"
        },
        "id": "iMTgOWYUJPmE",
        "outputId": "fe61e173-ec20-43ff-dcc1-826e2f05dbed"
      },
      "outputs": [
        {
          "output_type": "stream",
          "name": "stdout",
          "text": [
            "tf.Tensor(\n",
            "[[-1.6487293]\n",
            " [-1.6320944]\n",
            " [-1.615457 ]\n",
            " [-1.5988178]\n",
            " [-1.5821824]\n",
            " [-1.5655451]\n",
            " [-1.5489082]\n",
            " [-1.5322733]\n",
            " [-1.5156322]\n",
            " [-1.4989953]], shape=(10, 1), dtype=float32)\n"
          ]
        }
      ],
      "source": [
        "subclassing = NN()\n",
        "x_train_sub = np.expand_dims(x_test, axis=1)\n",
        "x_test_sub = np.expand_dims(x_test, axis=1)\n",
        "print(subclassing(x_test_sub))"
      ]
    },
    {
      "cell_type": "markdown",
      "metadata": {
        "id": "wu1BRCK6Md_4"
      },
      "source": [
        "# Training Model Subclassing"
      ]
    },
    {
      "cell_type": "markdown",
      "metadata": {
        "id": "3sg70UdRMsE0"
      },
      "source": [
        "### Fit"
      ]
    },
    {
      "cell_type": "code",
      "execution_count": null,
      "metadata": {
        "id": "bai2cFsCNQ-T"
      },
      "outputs": [],
      "source": [
        "subclassing.compile(optimizer=tf.keras.optimizers.Adam(), loss=tf.keras.losses.mean_squared_error)"
      ]
    },
    {
      "cell_type": "code",
      "execution_count": null,
      "metadata": {
        "colab": {
          "base_uri": "https://localhost:8080/"
        },
        "id": "ulUjyqk9MgpC",
        "outputId": "2905f6a3-e960-4600-c4cb-5b4ee388725e"
      },
      "outputs": [
        {
          "output_type": "stream",
          "name": "stdout",
          "text": [
            "Epoch 1/10\n",
            "1/1 [==============================] - 1s 782ms/step - loss: 385150688.0000 - val_loss: 369690400.0000\n",
            "Epoch 2/10\n",
            "1/1 [==============================] - 0s 35ms/step - loss: 385065952.0000 - val_loss: 369611840.0000\n",
            "Epoch 3/10\n",
            "1/1 [==============================] - 0s 41ms/step - loss: 384981376.0000 - val_loss: 369533344.0000\n",
            "Epoch 4/10\n",
            "1/1 [==============================] - 0s 36ms/step - loss: 384896832.0000 - val_loss: 369455584.0000\n",
            "Epoch 5/10\n",
            "1/1 [==============================] - 0s 33ms/step - loss: 384813088.0000 - val_loss: 369382496.0000\n",
            "Epoch 6/10\n",
            "1/1 [==============================] - 0s 35ms/step - loss: 384734400.0000 - val_loss: 369309728.0000\n",
            "Epoch 7/10\n",
            "1/1 [==============================] - 0s 40ms/step - loss: 384656000.0000 - val_loss: 369236800.0000\n",
            "Epoch 8/10\n",
            "1/1 [==============================] - 0s 34ms/step - loss: 384577504.0000 - val_loss: 369163904.0000\n",
            "Epoch 9/10\n",
            "1/1 [==============================] - 0s 37ms/step - loss: 384499008.0000 - val_loss: 369091200.0000\n",
            "Epoch 10/10\n",
            "1/1 [==============================] - 0s 34ms/step - loss: 384420672.0000 - val_loss: 369018560.0000\n"
          ]
        },
        {
          "output_type": "execute_result",
          "data": {
            "text/plain": [
              "<keras.callbacks.History at 0x7f7844cfa670>"
            ]
          },
          "metadata": {},
          "execution_count": 17
        }
      ],
      "source": [
        "subclassing.fit(x_train_sub, y_train, batch_size=8, epochs=10, validation_split=.2)"
      ]
    },
    {
      "cell_type": "markdown",
      "metadata": {
        "id": "g95zVQGDMv_c"
      },
      "source": [
        "### tf.GradientTape"
      ]
    },
    {
      "cell_type": "code",
      "execution_count": null,
      "metadata": {
        "id": "kSFm7lVzOHoL"
      },
      "outputs": [],
      "source": [
        "def optimize(model, x, y):\n",
        "    with tf.GradientTape() as tape:\n",
        "        pred = model(x)\n",
        "        loss = tf.reduce_mean(tf.keras.losses.MSE(pred, y))\n",
        "\n",
        "    grads = tape.gradient(loss, model.trainable_weights)\n",
        "    optimizer = tf.keras.optimizers.Adam()\n",
        "    optimizer.apply_gradients(zip(grads, model.trainable_weights)) \n",
        "    return model, loss"
      ]
    },
    {
      "cell_type": "code",
      "execution_count": null,
      "metadata": {
        "colab": {
          "base_uri": "https://localhost:8080/"
        },
        "id": "LDV9F2LRMxx0",
        "outputId": "9469726d-c5f2-45ef-b799-cb3d930d22f9"
      },
      "outputs": [
        {
          "output_type": "stream",
          "name": "stdout",
          "text": [
            "0 tf.Tensor(484119175.3771312, shape=(), dtype=float64)\n",
            "1 tf.Tensor(484059331.3859114, shape=(), dtype=float64)\n",
            "2 tf.Tensor(483998228.5404097, shape=(), dtype=float64)\n",
            "3 tf.Tensor(483936191.8448219, shape=(), dtype=float64)\n",
            "4 tf.Tensor(483873979.53862655, shape=(), dtype=float64)\n",
            "5 tf.Tensor(483814264.8612247, shape=(), dtype=float64)\n",
            "6 tf.Tensor(483755282.5257721, shape=(), dtype=float64)\n",
            "7 tf.Tensor(483696390.8391052, shape=(), dtype=float64)\n",
            "8 tf.Tensor(483636901.8169471, shape=(), dtype=float64)\n",
            "9 tf.Tensor(483576977.89095265, shape=(), dtype=float64)\n"
          ]
        }
      ],
      "source": [
        "subclassing = NN()\n",
        "x_train_sub = np.expand_dims(x_train, axis=1)\n",
        "epochs = 10\n",
        "for i in range(epochs):\n",
        "    subclassing, loss =  optimize(subclassing, x_train_sub, y_test)\n",
        "    print(i, loss) "
      ]
    },
    {
      "cell_type": "code",
      "execution_count": null,
      "metadata": {
        "id": "XGDD5tkOPeUo"
      },
      "outputs": [],
      "source": []
    }
  ],
  "metadata": {
    "colab": {
      "provenance": [],
      "include_colab_link": true
    },
    "kernelspec": {
      "display_name": "Python 3",
      "language": "python",
      "name": "python3"
    },
    "language_info": {
      "codemirror_mode": {
        "name": "ipython",
        "version": 3
      },
      "file_extension": ".py",
      "mimetype": "text/x-python",
      "name": "python",
      "nbconvert_exporter": "python",
      "pygments_lexer": "ipython3",
      "version": "3.8.8"
    }
  },
  "nbformat": 4,
  "nbformat_minor": 0
}